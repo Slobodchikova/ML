{
 "cells":[
  {
   "cell_type":"code",
   "source":[
    "import numpy as np\n",
    "import pandas as pd\n",
    "import seaborn as sns\n",
    "import matplotlib.pyplot as plt\n",
    "%matplotlib inline \n",
    "sns.set(style=\"ticks\")"
   ],
   "execution_count":1,
   "outputs":[
    
   ],
   "metadata":{
    "datalore":{
     "type":"CODE",
     "hide_input_from_viewers":false,
     "hide_output_from_viewers":false
    }
   }
  },
  {
   "cell_type":"code",
   "source":[
    "# Будем анализировать данные только на обучающей выборке\n",
    "data = pd.read_csv('test.csv', sep = ',')"
   ],
   "execution_count":2,
   "outputs":[
    
   ],
   "metadata":{
    "datalore":{
     "type":"CODE",
     "hide_input_from_viewers":false,
     "hide_output_from_viewers":false
    }
   }
  },
  {
   "cell_type":"code",
   "source":[
    "data.shape"
   ],
   "execution_count":3,
   "outputs":[
    {
     "data":{
      "text\/plain":[
       "(418, 11)"
      ]
     },
     "metadata":{
      
     },
     "output_type":"display_data"
    }
   ],
   "metadata":{
    "datalore":{
     "type":"CODE",
     "hide_input_from_viewers":false,
     "hide_output_from_viewers":false
    }
   }
  },
  {
   "cell_type":"code",
   "source":[
    "total_count = data.shape[0]\n",
    "print('Всего строк: {}'.format(total_count))"
   ],
   "execution_count":4,
   "outputs":[
    {
     "name":"stdout",
     "text":[
      "Всего строк: 418\n"
     ],
     "output_type":"stream"
    }
   ],
   "metadata":{
    "datalore":{
     "type":"CODE",
     "hide_input_from_viewers":false,
     "hide_output_from_viewers":false
    }
   }
  },
  {
   "cell_type":"code",
   "source":[
    "# типы колонок\n",
    "data.dtypes"
   ],
   "execution_count":5,
   "outputs":[
    {
     "data":{
      "text\/html":[
       
      ]
     },
     "metadata":{
      
     },
     "output_type":"display_data"
    }
   ],
   "metadata":{
    "datalore":{
     "type":"CODE",
     "hide_input_from_viewers":false,
     "hide_output_from_viewers":false
    }
   }
  },
  {
   "cell_type":"code",
   "source":[
    "# Первые 5 строк датасета\n",
    "data.head()"
   ],
   "execution_count":6,
   "outputs":[
    {
     "data":{
      "text\/html":[
       "<div>\n",
       "<style scoped>\n",
       "    .dataframe tbody tr th:only-of-type {\n",
       "        vertical-align: middle;\n",
       "    }\n",
       "\n",
       "    .dataframe tbody tr th {\n",
       "        vertical-align: top;\n",
       "    }\n",
       "\n",
       "    .dataframe thead th {\n",
       "        text-align: right;\n",
       "    }\n",
       "<\/style>\n",
       "<table border=\"1\" class=\"dataframe\">\n",
       "  <thead>\n",
       "    <tr style=\"text-align: right;\">\n",
       "      <th><\/th>\n",
       "      <th>PassengerId<\/th>\n",
       "      <th>Pclass<\/th>\n",
       "      <th>Name<\/th>\n",
       "      <th>Sex<\/th>\n",
       "      <th>Age<\/th>\n",
       "      <th>SibSp<\/th>\n",
       "      <th>Parch<\/th>\n",
       "      <th>Ticket<\/th>\n",
       "      <th>Fare<\/th>\n",
       "      <th>Cabin<\/th>\n",
       "      <th>Embarked<\/th>\n",
       "    <\/tr>\n",
       "  <\/thead>\n",
       "  <tbody>\n",
       "    <tr>\n",
       "      <th>0<\/th>\n",
       "      <td>892<\/td>\n",
       "      <td>3<\/td>\n",
       "      <td>Kelly, Mr. James<\/td>\n",
       "      <td>male<\/td>\n",
       "      <td>34.5<\/td>\n",
       "      <td>0<\/td>\n",
       "      <td>0<\/td>\n",
       "      <td>330911<\/td>\n",
       "      <td>7.8292<\/td>\n",
       "      <td>NaN<\/td>\n",
       "      <td>Q<\/td>\n",
       "    <\/tr>\n",
       "    <tr>\n",
       "      <th>1<\/th>\n",
       "      <td>893<\/td>\n",
       "      <td>3<\/td>\n",
       "      <td>Wilkes, Mrs. James (Ellen Needs)<\/td>\n",
       "      <td>female<\/td>\n",
       "      <td>47.0<\/td>\n",
       "      <td>1<\/td>\n",
       "      <td>0<\/td>\n",
       "      <td>363272<\/td>\n",
       "      <td>7.0000<\/td>\n",
       "      <td>NaN<\/td>\n",
       "      <td>S<\/td>\n",
       "    <\/tr>\n",
       "    <tr>\n",
       "      <th>2<\/th>\n",
       "      <td>894<\/td>\n",
       "      <td>2<\/td>\n",
       "      <td>Myles, Mr. Thomas Francis<\/td>\n",
       "      <td>male<\/td>\n",
       "      <td>62.0<\/td>\n",
       "      <td>0<\/td>\n",
       "      <td>0<\/td>\n",
       "      <td>240276<\/td>\n",
       "      <td>9.6875<\/td>\n",
       "      <td>NaN<\/td>\n",
       "      <td>Q<\/td>\n",
       "    <\/tr>\n",
       "    <tr>\n",
       "      <th>3<\/th>\n",
       "      <td>895<\/td>\n",
       "      <td>3<\/td>\n",
       "      <td>Wirz, Mr. Albert<\/td>\n",
       "      <td>male<\/td>\n",
       "      <td>27.0<\/td>\n",
       "      <td>0<\/td>\n",
       "      <td>0<\/td>\n",
       "      <td>315154<\/td>\n",
       "      <td>8.6625<\/td>\n",
       "      <td>NaN<\/td>\n",
       "      <td>S<\/td>\n",
       "    <\/tr>\n",
       "    <tr>\n",
       "      <th>4<\/th>\n",
       "      <td>896<\/td>\n",
       "      <td>3<\/td>\n",
       "      <td>Hirvonen, Mrs. Alexander (Helga E Lindqvist)<\/td>\n",
       "      <td>female<\/td>\n",
       "      <td>22.0<\/td>\n",
       "      <td>1<\/td>\n",
       "      <td>1<\/td>\n",
       "      <td>3101298<\/td>\n",
       "      <td>12.2875<\/td>\n",
       "      <td>NaN<\/td>\n",
       "      <td>S<\/td>\n",
       "    <\/tr>\n",
       "  <\/tbody>\n",
       "<\/table>\n",
       "<\/div>"
      ]
     },
     "metadata":{
      
     },
     "output_type":"display_data"
    }
   ],
   "metadata":{
    "datalore":{
     "type":"CODE",
     "hide_input_from_viewers":false,
     "hide_output_from_viewers":false
    }
   }
  },
  {
   "cell_type":"code",
   "source":[
    "data.isnull().sum()"
   ],
   "execution_count":7,
   "outputs":[
    {
     "data":{
      "text\/html":[
       
      ]
     },
     "metadata":{
      
     },
     "output_type":"display_data"
    }
   ],
   "metadata":{
    "datalore":{
     "type":"CODE",
     "hide_input_from_viewers":false,
     "hide_output_from_viewers":false
    }
   }
  },
  {
   "cell_type":"markdown",
   "source":[
    "**1. Обработка пропусков в данных**\n",
    "\n",
    "**Вариант 1. Заполнение нулями или удаление**"
   ],
   "attachments":{
    
   },
   "metadata":{
    "datalore":{
     "type":"MD",
     "hide_input_from_viewers":false,
     "hide_output_from_viewers":false
    }
   }
  },
  {
   "cell_type":"code",
   "source":[
    "# Удаление колонок, содержащих пустые значения\n",
    "data_new_1 = data.dropna(axis=1, how='any')\n",
    "(data.shape, data_new_1.shape)"
   ],
   "execution_count":8,
   "outputs":[
    {
     "data":{
      "text\/plain":[
       "((418, 11), (418, 8))"
      ]
     },
     "metadata":{
      
     },
     "output_type":"display_data"
    }
   ],
   "metadata":{
    "datalore":{
     "type":"CODE",
     "hide_input_from_viewers":false,
     "hide_output_from_viewers":false
    }
   }
  },
  {
   "cell_type":"code",
   "source":[
    "# Удаление строк, содержащих пустые значения\n",
    "data_new_2 = data.dropna(axis=0, how='any')\n",
    "(data.shape, data_new_2.shape)"
   ],
   "execution_count":9,
   "outputs":[
    {
     "data":{
      "text\/plain":[
       "((418, 11), (87, 11))"
      ]
     },
     "metadata":{
      
     },
     "output_type":"display_data"
    }
   ],
   "metadata":{
    "datalore":{
     "type":"CODE",
     "hide_input_from_viewers":false,
     "hide_output_from_viewers":false
    }
   }
  },
  {
   "cell_type":"code",
   "source":[
    "data.head()"
   ],
   "execution_count":10,
   "outputs":[
    {
     "data":{
      "text\/html":[
       "<div>\n",
       "<style scoped>\n",
       "    .dataframe tbody tr th:only-of-type {\n",
       "        vertical-align: middle;\n",
       "    }\n",
       "\n",
       "    .dataframe tbody tr th {\n",
       "        vertical-align: top;\n",
       "    }\n",
       "\n",
       "    .dataframe thead th {\n",
       "        text-align: right;\n",
       "    }\n",
       "<\/style>\n",
       "<table border=\"1\" class=\"dataframe\">\n",
       "  <thead>\n",
       "    <tr style=\"text-align: right;\">\n",
       "      <th><\/th>\n",
       "      <th>PassengerId<\/th>\n",
       "      <th>Pclass<\/th>\n",
       "      <th>Name<\/th>\n",
       "      <th>Sex<\/th>\n",
       "      <th>Age<\/th>\n",
       "      <th>SibSp<\/th>\n",
       "      <th>Parch<\/th>\n",
       "      <th>Ticket<\/th>\n",
       "      <th>Fare<\/th>\n",
       "      <th>Cabin<\/th>\n",
       "      <th>Embarked<\/th>\n",
       "    <\/tr>\n",
       "  <\/thead>\n",
       "  <tbody>\n",
       "    <tr>\n",
       "      <th>0<\/th>\n",
       "      <td>892<\/td>\n",
       "      <td>3<\/td>\n",
       "      <td>Kelly, Mr. James<\/td>\n",
       "      <td>male<\/td>\n",
       "      <td>34.5<\/td>\n",
       "      <td>0<\/td>\n",
       "      <td>0<\/td>\n",
       "      <td>330911<\/td>\n",
       "      <td>7.8292<\/td>\n",
       "      <td>NaN<\/td>\n",
       "      <td>Q<\/td>\n",
       "    <\/tr>\n",
       "    <tr>\n",
       "      <th>1<\/th>\n",
       "      <td>893<\/td>\n",
       "      <td>3<\/td>\n",
       "      <td>Wilkes, Mrs. James (Ellen Needs)<\/td>\n",
       "      <td>female<\/td>\n",
       "      <td>47.0<\/td>\n",
       "      <td>1<\/td>\n",
       "      <td>0<\/td>\n",
       "      <td>363272<\/td>\n",
       "      <td>7.0000<\/td>\n",
       "      <td>NaN<\/td>\n",
       "      <td>S<\/td>\n",
       "    <\/tr>\n",
       "    <tr>\n",
       "      <th>2<\/th>\n",
       "      <td>894<\/td>\n",
       "      <td>2<\/td>\n",
       "      <td>Myles, Mr. Thomas Francis<\/td>\n",
       "      <td>male<\/td>\n",
       "      <td>62.0<\/td>\n",
       "      <td>0<\/td>\n",
       "      <td>0<\/td>\n",
       "      <td>240276<\/td>\n",
       "      <td>9.6875<\/td>\n",
       "      <td>NaN<\/td>\n",
       "      <td>Q<\/td>\n",
       "    <\/tr>\n",
       "    <tr>\n",
       "      <th>3<\/th>\n",
       "      <td>895<\/td>\n",
       "      <td>3<\/td>\n",
       "      <td>Wirz, Mr. Albert<\/td>\n",
       "      <td>male<\/td>\n",
       "      <td>27.0<\/td>\n",
       "      <td>0<\/td>\n",
       "      <td>0<\/td>\n",
       "      <td>315154<\/td>\n",
       "      <td>8.6625<\/td>\n",
       "      <td>NaN<\/td>\n",
       "      <td>S<\/td>\n",
       "    <\/tr>\n",
       "    <tr>\n",
       "      <th>4<\/th>\n",
       "      <td>896<\/td>\n",
       "      <td>3<\/td>\n",
       "      <td>Hirvonen, Mrs. Alexander (Helga E Lindqvist)<\/td>\n",
       "      <td>female<\/td>\n",
       "      <td>22.0<\/td>\n",
       "      <td>1<\/td>\n",
       "      <td>1<\/td>\n",
       "      <td>3101298<\/td>\n",
       "      <td>12.2875<\/td>\n",
       "      <td>NaN<\/td>\n",
       "      <td>S<\/td>\n",
       "    <\/tr>\n",
       "  <\/tbody>\n",
       "<\/table>\n",
       "<\/div>"
      ]
     },
     "metadata":{
      
     },
     "output_type":"display_data"
    }
   ],
   "metadata":{
    "datalore":{
     "type":"CODE",
     "hide_input_from_viewers":false,
     "hide_output_from_viewers":false
    }
   }
  },
  {
   "cell_type":"code",
   "source":[
    "# Заполнение всех пропущенных значений нулями\n",
    "# В данном случае это некорректно, так как нулями заполняются в том числе категориальные колонки\n",
    "data_new_3 = data.fillna(0)\n",
    "data_new_3.head()"
   ],
   "execution_count":11,
   "outputs":[
    {
     "data":{
      "text\/html":[
       "<div>\n",
       "<style scoped>\n",
       "    .dataframe tbody tr th:only-of-type {\n",
       "        vertical-align: middle;\n",
       "    }\n",
       "\n",
       "    .dataframe tbody tr th {\n",
       "        vertical-align: top;\n",
       "    }\n",
       "\n",
       "    .dataframe thead th {\n",
       "        text-align: right;\n",
       "    }\n",
       "<\/style>\n",
       "<table border=\"1\" class=\"dataframe\">\n",
       "  <thead>\n",
       "    <tr style=\"text-align: right;\">\n",
       "      <th><\/th>\n",
       "      <th>PassengerId<\/th>\n",
       "      <th>Pclass<\/th>\n",
       "      <th>Name<\/th>\n",
       "      <th>Sex<\/th>\n",
       "      <th>Age<\/th>\n",
       "      <th>SibSp<\/th>\n",
       "      <th>Parch<\/th>\n",
       "      <th>Ticket<\/th>\n",
       "      <th>Fare<\/th>\n",
       "      <th>Cabin<\/th>\n",
       "      <th>Embarked<\/th>\n",
       "    <\/tr>\n",
       "  <\/thead>\n",
       "  <tbody>\n",
       "    <tr>\n",
       "      <th>0<\/th>\n",
       "      <td>892<\/td>\n",
       "      <td>3<\/td>\n",
       "      <td>Kelly, Mr. James<\/td>\n",
       "      <td>male<\/td>\n",
       "      <td>34.5<\/td>\n",
       "      <td>0<\/td>\n",
       "      <td>0<\/td>\n",
       "      <td>330911<\/td>\n",
       "      <td>7.8292<\/td>\n",
       "      <td>0<\/td>\n",
       "      <td>Q<\/td>\n",
       "    <\/tr>\n",
       "    <tr>\n",
       "      <th>1<\/th>\n",
       "      <td>893<\/td>\n",
       "      <td>3<\/td>\n",
       "      <td>Wilkes, Mrs. James (Ellen Needs)<\/td>\n",
       "      <td>female<\/td>\n",
       "      <td>47.0<\/td>\n",
       "      <td>1<\/td>\n",
       "      <td>0<\/td>\n",
       "      <td>363272<\/td>\n",
       "      <td>7.0000<\/td>\n",
       "      <td>0<\/td>\n",
       "      <td>S<\/td>\n",
       "    <\/tr>\n",
       "    <tr>\n",
       "      <th>2<\/th>\n",
       "      <td>894<\/td>\n",
       "      <td>2<\/td>\n",
       "      <td>Myles, Mr. Thomas Francis<\/td>\n",
       "      <td>male<\/td>\n",
       "      <td>62.0<\/td>\n",
       "      <td>0<\/td>\n",
       "      <td>0<\/td>\n",
       "      <td>240276<\/td>\n",
       "      <td>9.6875<\/td>\n",
       "      <td>0<\/td>\n",
       "      <td>Q<\/td>\n",
       "    <\/tr>\n",
       "    <tr>\n",
       "      <th>3<\/th>\n",
       "      <td>895<\/td>\n",
       "      <td>3<\/td>\n",
       "      <td>Wirz, Mr. Albert<\/td>\n",
       "      <td>male<\/td>\n",
       "      <td>27.0<\/td>\n",
       "      <td>0<\/td>\n",
       "      <td>0<\/td>\n",
       "      <td>315154<\/td>\n",
       "      <td>8.6625<\/td>\n",
       "      <td>0<\/td>\n",
       "      <td>S<\/td>\n",
       "    <\/tr>\n",
       "    <tr>\n",
       "      <th>4<\/th>\n",
       "      <td>896<\/td>\n",
       "      <td>3<\/td>\n",
       "      <td>Hirvonen, Mrs. Alexander (Helga E Lindqvist)<\/td>\n",
       "      <td>female<\/td>\n",
       "      <td>22.0<\/td>\n",
       "      <td>1<\/td>\n",
       "      <td>1<\/td>\n",
       "      <td>3101298<\/td>\n",
       "      <td>12.2875<\/td>\n",
       "      <td>0<\/td>\n",
       "      <td>S<\/td>\n",
       "    <\/tr>\n",
       "  <\/tbody>\n",
       "<\/table>\n",
       "<\/div>"
      ]
     },
     "metadata":{
      
     },
     "output_type":"display_data"
    }
   ],
   "metadata":{
    "datalore":{
     "type":"CODE",
     "hide_input_from_viewers":false,
     "hide_output_from_viewers":false
    }
   }
  },
  {
   "cell_type":"markdown",
   "source":[
    "**Вариант 2. \"Внедрение значений\" - импьютация (imputation)**"
   ],
   "attachments":{
    
   },
   "metadata":{
    "datalore":{
     "type":"MD",
     "hide_input_from_viewers":false,
     "hide_output_from_viewers":false
    }
   }
  },
  {
   "cell_type":"code",
   "source":[
    "# Выберем числовые колонки с пропущенными значениями\n",
    "# Цикл по колонкам датасета\n",
    "num_cols = []\n",
    "for col in data.columns:\n",
    "    # Количество пустых значений \n",
    "    temp_null_count = data[data[col].isnull()].shape[0]\n",
    "    dt = str(data[col].dtype)\n",
    "    if temp_null_count>0 and (dt=='float64' or dt=='int64'):\n",
    "        num_cols.append(col)\n",
    "        temp_perc = round((temp_null_count \/ total_count) * 100.0, 2)\n",
    "        print('Колонка {}. Тип данных {}. Количество пустых значений {}, {}%.'.format(col, dt, temp_null_count, temp_perc))"
   ],
   "execution_count":12,
   "outputs":[
    {
     "name":"stdout",
     "text":[
      "Колонка Age. Тип данных float64. Количество пустых значений 86, 20.57%.\n",
      "Колонка Fare. Тип данных float64. Количество пустых значений 1, 0.24%.\n"
     ],
     "output_type":"stream"
    }
   ],
   "metadata":{
    "datalore":{
     "type":"CODE",
     "hide_input_from_viewers":false,
     "hide_output_from_viewers":false
    }
   }
  },
  {
   "cell_type":"code",
   "source":[
    "# Фильтр по колонкам с пропущенными значениями\n",
    "data_num = data[num_cols]\n",
    "data_num"
   ],
   "execution_count":13,
   "outputs":[
    {
     "data":{
      "text\/html":[
       "<div>\n",
       "<style scoped>\n",
       "    .dataframe tbody tr th:only-of-type {\n",
       "        vertical-align: middle;\n",
       "    }\n",
       "\n",
       "    .dataframe tbody tr th {\n",
       "        vertical-align: top;\n",
       "    }\n",
       "\n",
       "    .dataframe thead th {\n",
       "        text-align: right;\n",
       "    }\n",
       "<\/style>\n",
       "<table border=\"1\" class=\"dataframe\">\n",
       "  <thead>\n",
       "    <tr style=\"text-align: right;\">\n",
       "      <th><\/th>\n",
       "      <th>Age<\/th>\n",
       "      <th>Fare<\/th>\n",
       "    <\/tr>\n",
       "  <\/thead>\n",
       "  <tbody>\n",
       "    <tr>\n",
       "      <th>0<\/th>\n",
       "      <td>34.5<\/td>\n",
       "      <td>7.8292<\/td>\n",
       "    <\/tr>\n",
       "    <tr>\n",
       "      <th>1<\/th>\n",
       "      <td>47.0<\/td>\n",
       "      <td>7.0000<\/td>\n",
       "    <\/tr>\n",
       "    <tr>\n",
       "      <th>2<\/th>\n",
       "      <td>62.0<\/td>\n",
       "      <td>9.6875<\/td>\n",
       "    <\/tr>\n",
       "    <tr>\n",
       "      <th>3<\/th>\n",
       "      <td>27.0<\/td>\n",
       "      <td>8.6625<\/td>\n",
       "    <\/tr>\n",
       "    <tr>\n",
       "      <th>4<\/th>\n",
       "      <td>22.0<\/td>\n",
       "      <td>12.2875<\/td>\n",
       "    <\/tr>\n",
       "    <tr>\n",
       "      <th>...<\/th>\n",
       "      <td>...<\/td>\n",
       "      <td>...<\/td>\n",
       "    <\/tr>\n",
       "    <tr>\n",
       "      <th>413<\/th>\n",
       "      <td>NaN<\/td>\n",
       "      <td>8.0500<\/td>\n",
       "    <\/tr>\n",
       "    <tr>\n",
       "      <th>414<\/th>\n",
       "      <td>39.0<\/td>\n",
       "      <td>108.9000<\/td>\n",
       "    <\/tr>\n",
       "    <tr>\n",
       "      <th>415<\/th>\n",
       "      <td>38.5<\/td>\n",
       "      <td>7.2500<\/td>\n",
       "    <\/tr>\n",
       "    <tr>\n",
       "      <th>416<\/th>\n",
       "      <td>NaN<\/td>\n",
       "      <td>8.0500<\/td>\n",
       "    <\/tr>\n",
       "    <tr>\n",
       "      <th>417<\/th>\n",
       "      <td>NaN<\/td>\n",
       "      <td>22.3583<\/td>\n",
       "    <\/tr>\n",
       "  <\/tbody>\n",
       "<\/table>\n",
       "<p>418 rows × 2 columns<\/p>\n",
       "<\/div>"
      ]
     },
     "metadata":{
      
     },
     "output_type":"display_data"
    }
   ],
   "metadata":{
    "datalore":{
     "type":"CODE",
     "hide_input_from_viewers":false,
     "hide_output_from_viewers":false
    }
   }
  },
  {
   "cell_type":"code",
   "source":[
    "# Гистограмма по признакам\n",
    "for col in data_num:\n",
    "    plt.hist(data[col], 50)\n",
    "    plt.xlabel(col)\n",
    "    plt.show()"
   ],
   "execution_count":14,
   "outputs":[
    {
     "data":{
      "image\/png":"[encoded data removed]"
     },
     "metadata":{
      "image\/png":{
       
      }
     },
     "output_type":"display_data"
    }
   ],
   "metadata":{
    "datalore":{
     "type":"CODE",
     "hide_input_from_viewers":false,
     "hide_output_from_viewers":false
    }
   }
  },
  {
   "cell_type":"code",
   "source":[
    "# Фильтр по пустым значениям поля Fare\n",
    "data[data['Fare'].isnull()]"
   ],
   "execution_count":15,
   "outputs":[
    {
     "data":{
      "text\/html":[
       "<div>\n",
       "<style scoped>\n",
       "    .dataframe tbody tr th:only-of-type {\n",
       "        vertical-align: middle;\n",
       "    }\n",
       "\n",
       "    .dataframe tbody tr th {\n",
       "        vertical-align: top;\n",
       "    }\n",
       "\n",
       "    .dataframe thead th {\n",
       "        text-align: right;\n",
       "    }\n",
       "<\/style>\n",
       "<table border=\"1\" class=\"dataframe\">\n",
       "  <thead>\n",
       "    <tr style=\"text-align: right;\">\n",
       "      <th><\/th>\n",
       "      <th>PassengerId<\/th>\n",
       "      <th>Pclass<\/th>\n",
       "      <th>Name<\/th>\n",
       "      <th>Sex<\/th>\n",
       "      <th>Age<\/th>\n",
       "      <th>SibSp<\/th>\n",
       "      <th>Parch<\/th>\n",
       "      <th>Ticket<\/th>\n",
       "      <th>Fare<\/th>\n",
       "      <th>Cabin<\/th>\n",
       "      <th>Embarked<\/th>\n",
       "    <\/tr>\n",
       "  <\/thead>\n",
       "  <tbody>\n",
       "    <tr>\n",
       "      <th>152<\/th>\n",
       "      <td>1044<\/td>\n",
       "      <td>3<\/td>\n",
       "      <td>Storey, Mr. Thomas<\/td>\n",
       "      <td>male<\/td>\n",
       "      <td>60.5<\/td>\n",
       "      <td>0<\/td>\n",
       "      <td>0<\/td>\n",
       "      <td>3701<\/td>\n",
       "      <td>NaN<\/td>\n",
       "      <td>NaN<\/td>\n",
       "      <td>S<\/td>\n",
       "    <\/tr>\n",
       "  <\/tbody>\n",
       "<\/table>\n",
       "<\/div>"
      ]
     },
     "metadata":{
      
     },
     "output_type":"display_data"
    }
   ],
   "metadata":{
    "datalore":{
     "type":"CODE",
     "hide_input_from_viewers":false,
     "hide_output_from_viewers":false
    }
   }
  },
  {
   "cell_type":"code",
   "source":[
    "# Запоминаем индексы строк с пустыми значениями\n",
    "flt_index = data[data['Fare'].isnull()].index\n",
    "flt_index"
   ],
   "execution_count":16,
   "outputs":[
    {
     "data":{
      "text\/plain":[
       "Int64Index([152], dtype='int64')"
      ]
     },
     "metadata":{
      
     },
     "output_type":"display_data"
    }
   ],
   "metadata":{
    "datalore":{
     "type":"CODE",
     "hide_input_from_viewers":false,
     "hide_output_from_viewers":false
    }
   }
  },
  {
   "cell_type":"code",
   "source":[
    "# Запоминаем индексы строк с пустыми значениями\n",
    "flt_index = data[data['Age'].isnull()].index\n",
    "flt_index"
   ],
   "execution_count":17,
   "outputs":[
    {
     "data":{
      "text\/plain":[
       "Int64Index([ 10,  22,  29,  33,  36,  39,  41,  47,  54,  58,  65,  76,  83,\n",
       "             84,  85,  88,  91,  93, 102, 107, 108, 111, 116, 121, 124, 127,\n",
       "            132, 133, 146, 148, 151, 160, 163, 168, 170, 173, 183, 188, 191,\n",
       "            199, 200, 205, 211, 216, 219, 225, 227, 233, 243, 244, 249, 255,\n",
       "            256, 265, 266, 267, 268, 271, 273, 274, 282, 286, 288, 289, 290,\n",
       "            292, 297, 301, 304, 312, 332, 339, 342, 344, 357, 358, 365, 366,\n",
       "            380, 382, 384, 408, 410, 413, 416, 417],\n",
       "           dtype='int64')"
      ]
     },
     "metadata":{
      
     },
     "output_type":"display_data"
    }
   ],
   "metadata":{
    "datalore":{
     "type":"CODE",
     "hide_input_from_viewers":false,
     "hide_output_from_viewers":false
    }
   }
  },
  {
   "cell_type":"code",
   "source":[
    "# фильтр по колонке\n",
    "data_num[data_num.index.isin(flt_index)]['Fare']"
   ],
   "execution_count":18,
   "outputs":[
    {
     "data":{
      "text\/html":[
       
      ]
     },
     "metadata":{
      
     },
     "output_type":"display_data"
    }
   ],
   "metadata":{
    "datalore":{
     "type":"CODE",
     "hide_input_from_viewers":false,
     "hide_output_from_viewers":false
    }
   }
  },
  {
   "cell_type":"code",
   "source":[
    "#Будем использовать встроенные средства импьютации библиотеки scikit-learn\n",
    "data_num_Fare = data_num[['Fare']]\n",
    "data_num_Fare.head()"
   ],
   "execution_count":19,
   "outputs":[
    {
     "data":{
      "text\/html":[
       "<div>\n",
       "<style scoped>\n",
       "    .dataframe tbody tr th:only-of-type {\n",
       "        vertical-align: middle;\n",
       "    }\n",
       "\n",
       "    .dataframe tbody tr th {\n",
       "        vertical-align: top;\n",
       "    }\n",
       "\n",
       "    .dataframe thead th {\n",
       "        text-align: right;\n",
       "    }\n",
       "<\/style>\n",
       "<table border=\"1\" class=\"dataframe\">\n",
       "  <thead>\n",
       "    <tr style=\"text-align: right;\">\n",
       "      <th><\/th>\n",
       "      <th>Fare<\/th>\n",
       "    <\/tr>\n",
       "  <\/thead>\n",
       "  <tbody>\n",
       "    <tr>\n",
       "      <th>0<\/th>\n",
       "      <td>7.8292<\/td>\n",
       "    <\/tr>\n",
       "    <tr>\n",
       "      <th>1<\/th>\n",
       "      <td>7.0000<\/td>\n",
       "    <\/tr>\n",
       "    <tr>\n",
       "      <th>2<\/th>\n",
       "      <td>9.6875<\/td>\n",
       "    <\/tr>\n",
       "    <tr>\n",
       "      <th>3<\/th>\n",
       "      <td>8.6625<\/td>\n",
       "    <\/tr>\n",
       "    <tr>\n",
       "      <th>4<\/th>\n",
       "      <td>12.2875<\/td>\n",
       "    <\/tr>\n",
       "  <\/tbody>\n",
       "<\/table>\n",
       "<\/div>"
      ]
     },
     "metadata":{
      
     },
     "output_type":"display_data"
    }
   ],
   "metadata":{
    "datalore":{
     "type":"CODE",
     "hide_input_from_viewers":false,
     "hide_output_from_viewers":false
    }
   }
  },
  {
   "cell_type":"code",
   "source":[
    "from sklearn.impute import SimpleImputer\n",
    "from sklearn.impute import MissingIndicator"
   ],
   "execution_count":20,
   "outputs":[
    
   ],
   "metadata":{
    "datalore":{
     "type":"CODE",
     "hide_input_from_viewers":false,
     "hide_output_from_viewers":false
    }
   }
  },
  {
   "cell_type":"code",
   "source":[
    "# Фильтр для проверки заполнения пустых значений\n",
    "indicator = MissingIndicator()\n",
    "mask_missing_values_only = indicator.fit_transform(data_num_Fare)\n",
    "mask_missing_values_only"
   ],
   "execution_count":21,
   "outputs":[
    {
     "data":{
      "text\/html":[
       
      ]
     },
     "metadata":{
      
     },
     "output_type":"display_data"
    }
   ],
   "metadata":{
    "datalore":{
     "type":"CODE",
     "hide_input_from_viewers":false,
     "hide_output_from_viewers":false
    }
   }
  },
  {
   "cell_type":"code",
   "source":[
    "strategies=['mean', 'median', 'most_frequent'] \n",
    "#каким значением будем заполнять. Age - Медиана так как много выбросов\n",
    "#Fare - среднее значение "
   ],
   "execution_count":22,
   "outputs":[
    
   ],
   "metadata":{
    "datalore":{
     "type":"CODE",
     "hide_input_from_viewers":false,
     "hide_output_from_viewers":false
    }
   }
  },
  {
   "cell_type":"code",
   "source":[
    "def test_num_impute(strategy_param):\n",
    "    imp_num = SimpleImputer(strategy=strategy_param)\n",
    "    data_num_imp = imp_num.fit_transform(data_num_Fare)\n",
    "    return data_num_imp[mask_missing_values_only]"
   ],
   "execution_count":23,
   "outputs":[
    
   ],
   "metadata":{
    "datalore":{
     "type":"CODE",
     "hide_input_from_viewers":false,
     "hide_output_from_viewers":false
    }
   }
  },
  {
   "cell_type":"code",
   "source":[
    "strategies[0], test_num_impute(strategies[0])"
   ],
   "execution_count":24,
   "outputs":[
    {
     "data":{
      "text\/plain":[
       "('mean', array([35.62718849]))"
      ]
     },
     "metadata":{
      
     },
     "output_type":"display_data"
    }
   ],
   "metadata":{
    "datalore":{
     "type":"CODE",
     "hide_input_from_viewers":false,
     "hide_output_from_viewers":false
    }
   }
  },
  {
   "cell_type":"code",
   "source":[
    "strategies[1], test_num_impute(strategies[1])"
   ],
   "execution_count":25,
   "outputs":[
    {
     "data":{
      "text\/plain":[
       "('median', array([14.4542]))"
      ]
     },
     "metadata":{
      
     },
     "output_type":"display_data"
    }
   ],
   "metadata":{
    "datalore":{
     "type":"CODE",
     "hide_input_from_viewers":false,
     "hide_output_from_viewers":false
    }
   }
  },
  {
   "cell_type":"code",
   "source":[
    "strategies[2], test_num_impute(strategies[2])"
   ],
   "execution_count":26,
   "outputs":[
    {
     "data":{
      "text\/plain":[
       "('most_frequent', array([7.75]))"
      ]
     },
     "metadata":{
      
     },
     "output_type":"display_data"
    }
   ],
   "metadata":{
    "datalore":{
     "type":"CODE",
     "hide_input_from_viewers":false,
     "hide_output_from_viewers":false
    }
   }
  },
  {
   "cell_type":"code",
   "source":[
    "# Более сложная функция, которая позволяет задавать колонку и вид импьютации\n",
    "def test_num_impute_col(dataset, column, strategy_param):\n",
    "    temp_data = dataset[[column]]\n",
    "    \n",
    "    indicator = MissingIndicator()\n",
    "    mask_missing_values_only = indicator.fit_transform(temp_data)\n",
    "    \n",
    "    imp_num = SimpleImputer(strategy=strategy_param)\n",
    "    data_num_imp = imp_num.fit_transform(temp_data)\n",
    "    \n",
    "    filled_data = data_num_imp[mask_missing_values_only]\n",
    "    \n",
    "    return column, strategy_param, filled_data.size, filled_data[0], filled_data[filled_data.size-1]"
   ],
   "execution_count":27,
   "outputs":[
    
   ],
   "metadata":{
    "datalore":{
     "type":"CODE",
     "hide_input_from_viewers":false,
     "hide_output_from_viewers":false
    }
   }
  },
  {
   "cell_type":"code",
   "source":[
    "data[['Age']].describe()"
   ],
   "execution_count":28,
   "outputs":[
    {
     "data":{
      "text\/html":[
       "<div>\n",
       "<style scoped>\n",
       "    .dataframe tbody tr th:only-of-type {\n",
       "        vertical-align: middle;\n",
       "    }\n",
       "\n",
       "    .dataframe tbody tr th {\n",
       "        vertical-align: top;\n",
       "    }\n",
       "\n",
       "    .dataframe thead th {\n",
       "        text-align: right;\n",
       "    }\n",
       "<\/style>\n",
       "<table border=\"1\" class=\"dataframe\">\n",
       "  <thead>\n",
       "    <tr style=\"text-align: right;\">\n",
       "      <th><\/th>\n",
       "      <th>Age<\/th>\n",
       "    <\/tr>\n",
       "  <\/thead>\n",
       "  <tbody>\n",
       "    <tr>\n",
       "      <th>count<\/th>\n",
       "      <td>332.000000<\/td>\n",
       "    <\/tr>\n",
       "    <tr>\n",
       "      <th>mean<\/th>\n",
       "      <td>30.272590<\/td>\n",
       "    <\/tr>\n",
       "    <tr>\n",
       "      <th>std<\/th>\n",
       "      <td>14.181209<\/td>\n",
       "    <\/tr>\n",
       "    <tr>\n",
       "      <th>min<\/th>\n",
       "      <td>0.170000<\/td>\n",
       "    <\/tr>\n",
       "    <tr>\n",
       "      <th>25%<\/th>\n",
       "      <td>21.000000<\/td>\n",
       "    <\/tr>\n",
       "    <tr>\n",
       "      <th>50%<\/th>\n",
       "      <td>27.000000<\/td>\n",
       "    <\/tr>\n",
       "    <tr>\n",
       "      <th>75%<\/th>\n",
       "      <td>39.000000<\/td>\n",
       "    <\/tr>\n",
       "    <tr>\n",
       "      <th>max<\/th>\n",
       "      <td>76.000000<\/td>\n",
       "    <\/tr>\n",
       "  <\/tbody>\n",
       "<\/table>\n",
       "<\/div>"
      ]
     },
     "metadata":{
      
     },
     "output_type":"display_data"
    }
   ],
   "metadata":{
    "datalore":{
     "type":"CODE",
     "hide_input_from_viewers":false,
     "hide_output_from_viewers":false
    }
   }
  },
  {
   "cell_type":"code",
   "source":[
    "test_num_impute_col(data, 'Age', strategies[0])"
   ],
   "execution_count":29,
   "outputs":[
    {
     "data":{
      "text\/plain":[
       "('Age', 'mean', 86, 30.272590361445783, 30.272590361445783)"
      ]
     },
     "metadata":{
      
     },
     "output_type":"display_data"
    }
   ],
   "metadata":{
    "datalore":{
     "type":"CODE",
     "hide_input_from_viewers":false,
     "hide_output_from_viewers":false
    }
   }
  },
  {
   "cell_type":"code",
   "source":[
    "\n",
    "test_num_impute_col(data, 'Age', strategies[1])"
   ],
   "execution_count":30,
   "outputs":[
    {
     "data":{
      "text\/plain":[
       "('Age', 'median', 86, 27.0, 27.0)"
      ]
     },
     "metadata":{
      
     },
     "output_type":"display_data"
    }
   ],
   "metadata":{
    "datalore":{
     "type":"CODE",
     "hide_input_from_viewers":false,
     "hide_output_from_viewers":false
    }
   }
  },
  {
   "cell_type":"code",
   "source":[
    "\n",
    "test_num_impute_col(data, 'Age', strategies[2])"
   ],
   "execution_count":31,
   "outputs":[
    {
     "data":{
      "text\/plain":[
       "('Age', 'most_frequent', 86, 21.0, 21.0)"
      ]
     },
     "metadata":{
      
     },
     "output_type":"display_data"
    }
   ],
   "metadata":{
    "datalore":{
     "type":"CODE",
     "hide_input_from_viewers":false,
     "hide_output_from_viewers":false
    }
   }
  },
  {
   "cell_type":"markdown",
   "source":[
    "**Обработка пропусков категориальных значений** "
   ],
   "attachments":{
    
   },
   "metadata":{
    "datalore":{
     "type":"MD",
     "hide_input_from_viewers":false,
     "hide_output_from_viewers":false
    }
   }
  },
  {
   "cell_type":"code",
   "source":[
    "# Выберем категориальные колонки с пропущенными значениями\n",
    "# Цикл по колонкам датасета\n",
    "cat_cols = []\n",
    "for col in data.columns:\n",
    "    # Количество пустых значений \n",
    "    temp_null_count = data[data[col].isnull()].shape[0]\n",
    "    dt = str(data[col].dtype)\n",
    "    if temp_null_count>0 and (dt=='object'):\n",
    "        cat_cols.append(col)\n",
    "        temp_perc = round((temp_null_count \/ total_count) * 100.0, 2)\n",
    "        print('Колонка {}. Тип данных {}. Количество пустых значений {}, {}%.'.format(col, dt, temp_null_count, temp_perc))"
   ],
   "execution_count":32,
   "outputs":[
    {
     "name":"stdout",
     "text":[
      "Колонка Cabin. Тип данных object. Количество пустых значений 327, 78.23%.\n"
     ],
     "output_type":"stream"
    }
   ],
   "metadata":{
    "datalore":{
     "type":"CODE",
     "hide_input_from_viewers":false,
     "hide_output_from_viewers":false
    }
   }
  },
  {
   "cell_type":"code",
   "source":[
    "cat_temp_data = data[['Cabin']]\n",
    "cat_temp_data.head()"
   ],
   "execution_count":33,
   "outputs":[
    {
     "data":{
      "text\/html":[
       "<div>\n",
       "<style scoped>\n",
       "    .dataframe tbody tr th:only-of-type {\n",
       "        vertical-align: middle;\n",
       "    }\n",
       "\n",
       "    .dataframe tbody tr th {\n",
       "        vertical-align: top;\n",
       "    }\n",
       "\n",
       "    .dataframe thead th {\n",
       "        text-align: right;\n",
       "    }\n",
       "<\/style>\n",
       "<table border=\"1\" class=\"dataframe\">\n",
       "  <thead>\n",
       "    <tr style=\"text-align: right;\">\n",
       "      <th><\/th>\n",
       "      <th>Cabin<\/th>\n",
       "    <\/tr>\n",
       "  <\/thead>\n",
       "  <tbody>\n",
       "    <tr>\n",
       "      <th>0<\/th>\n",
       "      <td>NaN<\/td>\n",
       "    <\/tr>\n",
       "    <tr>\n",
       "      <th>1<\/th>\n",
       "      <td>NaN<\/td>\n",
       "    <\/tr>\n",
       "    <tr>\n",
       "      <th>2<\/th>\n",
       "      <td>NaN<\/td>\n",
       "    <\/tr>\n",
       "    <tr>\n",
       "      <th>3<\/th>\n",
       "      <td>NaN<\/td>\n",
       "    <\/tr>\n",
       "    <tr>\n",
       "      <th>4<\/th>\n",
       "      <td>NaN<\/td>\n",
       "    <\/tr>\n",
       "  <\/tbody>\n",
       "<\/table>\n",
       "<\/div>"
      ]
     },
     "metadata":{
      
     },
     "output_type":"display_data"
    }
   ],
   "metadata":{
    "datalore":{
     "type":"CODE",
     "hide_input_from_viewers":false,
     "hide_output_from_viewers":false
    }
   }
  },
  {
   "cell_type":"code",
   "source":[
    "cat_temp_data['Cabin'].unique()"
   ],
   "execution_count":34,
   "outputs":[
    {
     "data":{
      "text\/html":[
       
      ]
     },
     "metadata":{
      
     },
     "output_type":"display_data"
    }
   ],
   "metadata":{
    "datalore":{
     "type":"CODE",
     "hide_input_from_viewers":false,
     "hide_output_from_viewers":false
    }
   }
  },
  {
   "cell_type":"code",
   "source":[
    "# Импьютация наиболее частыми значениями\n",
    "imp2 = SimpleImputer(missing_values=np.nan, strategy='most_frequent')\n",
    "data_imp2 = imp2.fit_transform(cat_temp_data)\n",
    "data_imp2"
   ],
   "execution_count":35,
   "outputs":[
    {
     "data":{
      "text\/html":[
       
      ]
     },
     "metadata":{
      
     },
     "output_type":"display_data"
    }
   ],
   "metadata":{
    "datalore":{
     "type":"CODE",
     "hide_input_from_viewers":false,
     "hide_output_from_viewers":false
    }
   }
  },
  {
   "cell_type":"code",
   "source":[
    "# Пустые значения отсутствуют\n",
    "np.unique(data_imp2)"
   ],
   "execution_count":36,
   "outputs":[
    {
     "data":{
      "text\/html":[
       
      ]
     },
     "metadata":{
      
     },
     "output_type":"display_data"
    }
   ],
   "metadata":{
    "datalore":{
     "type":"CODE",
     "hide_input_from_viewers":false,
     "hide_output_from_viewers":false
    }
   }
  },
  {
   "cell_type":"code",
   "source":[
    "# Импьютация константой\n",
    "imp3 = SimpleImputer(missing_values=np.nan, strategy='constant', fill_value='NA')\n",
    "data_imp3 = imp3.fit_transform(cat_temp_data)\n",
    "data_imp3"
   ],
   "execution_count":37,
   "outputs":[
    {
     "data":{
      "text\/html":[
       
      ]
     },
     "metadata":{
      
     },
     "output_type":"display_data"
    }
   ],
   "metadata":{
    "datalore":{
     "type":"CODE",
     "hide_input_from_viewers":false,
     "hide_output_from_viewers":false
    }
   }
  },
  {
   "cell_type":"code",
   "source":[
    "np.unique(data_imp3)"
   ],
   "execution_count":38,
   "outputs":[
    {
     "data":{
      "text\/html":[
       
      ]
     },
     "metadata":{
      
     },
     "output_type":"display_data"
    }
   ],
   "metadata":{
    "datalore":{
     "type":"CODE",
     "hide_input_from_viewers":false,
     "hide_output_from_viewers":false
    }
   }
  },
  {
   "cell_type":"code",
   "source":[
    "data_imp3[data_imp3=='NA'].size"
   ],
   "execution_count":39,
   "outputs":[
    {
     "data":{
      "text\/plain":[
       "327"
      ]
     },
     "metadata":{
      
     },
     "output_type":"display_data"
    }
   ],
   "metadata":{
    "datalore":{
     "type":"CODE",
     "hide_input_from_viewers":false,
     "hide_output_from_viewers":false
    }
   }
  },
  {
   "cell_type":"markdown",
   "source":[
    "**Преобразование категориальных признаков в числовые**"
   ],
   "attachments":{
    
   },
   "metadata":{
    "datalore":{
     "type":"MD",
     "hide_input_from_viewers":false,
     "hide_output_from_viewers":false
    }
   }
  },
  {
   "cell_type":"code",
   "source":[
    "cat_enc = pd.DataFrame({'c1':data_imp2.T[0]})\n",
    "cat_enc"
   ],
   "execution_count":40,
   "outputs":[
    {
     "data":{
      "text\/html":[
       "<div>\n",
       "<style scoped>\n",
       "    .dataframe tbody tr th:only-of-type {\n",
       "        vertical-align: middle;\n",
       "    }\n",
       "\n",
       "    .dataframe tbody tr th {\n",
       "        vertical-align: top;\n",
       "    }\n",
       "\n",
       "    .dataframe thead th {\n",
       "        text-align: right;\n",
       "    }\n",
       "<\/style>\n",
       "<table border=\"1\" class=\"dataframe\">\n",
       "  <thead>\n",
       "    <tr style=\"text-align: right;\">\n",
       "      <th><\/th>\n",
       "      <th>c1<\/th>\n",
       "    <\/tr>\n",
       "  <\/thead>\n",
       "  <tbody>\n",
       "    <tr>\n",
       "      <th>0<\/th>\n",
       "      <td>B57 B59 B63 B66<\/td>\n",
       "    <\/tr>\n",
       "    <tr>\n",
       "      <th>1<\/th>\n",
       "      <td>B57 B59 B63 B66<\/td>\n",
       "    <\/tr>\n",
       "    <tr>\n",
       "      <th>2<\/th>\n",
       "      <td>B57 B59 B63 B66<\/td>\n",
       "    <\/tr>\n",
       "    <tr>\n",
       "      <th>3<\/th>\n",
       "      <td>B57 B59 B63 B66<\/td>\n",
       "    <\/tr>\n",
       "    <tr>\n",
       "      <th>4<\/th>\n",
       "      <td>B57 B59 B63 B66<\/td>\n",
       "    <\/tr>\n",
       "    <tr>\n",
       "      <th>...<\/th>\n",
       "      <td>...<\/td>\n",
       "    <\/tr>\n",
       "    <tr>\n",
       "      <th>413<\/th>\n",
       "      <td>B57 B59 B63 B66<\/td>\n",
       "    <\/tr>\n",
       "    <tr>\n",
       "      <th>414<\/th>\n",
       "      <td>C105<\/td>\n",
       "    <\/tr>\n",
       "    <tr>\n",
       "      <th>415<\/th>\n",
       "      <td>B57 B59 B63 B66<\/td>\n",
       "    <\/tr>\n",
       "    <tr>\n",
       "      <th>416<\/th>\n",
       "      <td>B57 B59 B63 B66<\/td>\n",
       "    <\/tr>\n",
       "    <tr>\n",
       "      <th>417<\/th>\n",
       "      <td>B57 B59 B63 B66<\/td>\n",
       "    <\/tr>\n",
       "  <\/tbody>\n",
       "<\/table>\n",
       "<p>418 rows × 1 columns<\/p>\n",
       "<\/div>"
      ]
     },
     "metadata":{
      
     },
     "output_type":"display_data"
    }
   ],
   "metadata":{
    "datalore":{
     "type":"CODE",
     "hide_input_from_viewers":false,
     "hide_output_from_viewers":false
    }
   }
  },
  {
   "cell_type":"code",
   "source":[
    "from sklearn.preprocessing import LabelEncoder, OneHotEncoder"
   ],
   "execution_count":58,
   "outputs":[
    
   ],
   "metadata":{
    "datalore":{
     "type":"CODE",
     "hide_input_from_viewers":false,
     "hide_output_from_viewers":false
    }
   }
  },
  {
   "cell_type":"markdown",
   "source":[
    "LanelEncoder создает фиктивный порядок. Если категориалные признаки изначально создают какой-то порядок, это хорошо. Если набор данных не имеет порядка, то получается ненужный порядок. \n",
    "\"+\": Не увеличивает кол-во колонок"
   ],
   "attachments":{
    
   },
   "metadata":{
    "datalore":{
     "type":"MD",
     "hide_input_from_viewers":false,
     "hide_output_from_viewers":false
    }
   }
  },
  {
   "cell_type":"code",
   "source":[
    "cat_enc['c1'].unique()"
   ],
   "execution_count":42,
   "outputs":[
    {
     "data":{
      "text\/html":[
       
      ]
     },
     "metadata":{
      
     },
     "output_type":"display_data"
    }
   ],
   "metadata":{
    "datalore":{
     "type":"CODE",
     "hide_input_from_viewers":false,
     "hide_output_from_viewers":false
    }
   }
  },
  {
   "cell_type":"code",
   "source":[
    "le = LabelEncoder()\n",
    "cat_enc_le = le.fit_transform(cat_enc['c1'])"
   ],
   "execution_count":43,
   "outputs":[
    
   ],
   "metadata":{
    "datalore":{
     "type":"CODE",
     "hide_input_from_viewers":false,
     "hide_output_from_viewers":false
    }
   }
  },
  {
   "cell_type":"code",
   "source":[
    "# Наименования категорий в соответствии с порядковыми номерами\n",
    "\n",
    "# Свойство называется classes, потому что предполагается что мы решаем \n",
    "# задачу классификации и каждое значение категории соответствует \n",
    "# какому-либо классу целевого признака\n",
    "\n",
    "le.classes_"
   ],
   "execution_count":44,
   "outputs":[
    {
     "data":{
      "text\/html":[
       
      ]
     },
     "metadata":{
      
     },
     "output_type":"display_data"
    }
   ],
   "metadata":{
    "datalore":{
     "type":"CODE",
     "hide_input_from_viewers":false,
     "hide_output_from_viewers":false
    }
   }
  },
  {
   "cell_type":"code",
   "source":[
    "np.unique(cat_enc_le)"
   ],
   "execution_count":46,
   "outputs":[
    {
     "data":{
      "text\/html":[
       
      ]
     },
     "metadata":{
      
     },
     "output_type":"display_data"
    }
   ],
   "metadata":{
    "datalore":{
     "type":"CODE",
     "hide_input_from_viewers":false,
     "hide_output_from_viewers":false
    }
   }
  },
  {
   "cell_type":"markdown",
   "source":[
    "**Использование OneHotEncoding**\n",
    "Избавление от фиктивного порядка, как в лейблЭнкодинг. Но одна колонка превратится в кол-во наших строковых значений. В наших данных 76 уникальных значений, значит столько новых колонок и появится.\n",
    "Плохо работает в корреляцией. В нашем слуйчае лучше использовать label encoding"
   ],
   "attachments":{
    
   },
   "metadata":{
    "datalore":{
     "type":"MD",
     "hide_input_from_viewers":false,
     "hide_output_from_viewers":false
    }
   }
  },
  {
   "cell_type":"code",
   "source":[
    "pd.get_dummies(cat_enc).head()\n",
    "#Из pandas data frame. Не разряженная матрица. \n",
    "#Так вообще делать нельзя в нашем случае"
   ],
   "execution_count":61,
   "outputs":[
    {
     "data":{
      "text\/html":[
       "<div>\n",
       "<style scoped>\n",
       "    .dataframe tbody tr th:only-of-type {\n",
       "        vertical-align: middle;\n",
       "    }\n",
       "\n",
       "    .dataframe tbody tr th {\n",
       "        vertical-align: top;\n",
       "    }\n",
       "\n",
       "    .dataframe thead th {\n",
       "        text-align: right;\n",
       "    }\n",
       "<\/style>\n",
       "<table border=\"1\" class=\"dataframe\">\n",
       "  <thead>\n",
       "    <tr style=\"text-align: right;\">\n",
       "      <th><\/th>\n",
       "      <th>c1_A11<\/th>\n",
       "      <th>c1_A18<\/th>\n",
       "      <th>c1_A21<\/th>\n",
       "      <th>c1_A29<\/th>\n",
       "      <th>c1_A34<\/th>\n",
       "      <th>c1_A9<\/th>\n",
       "      <th>c1_B10<\/th>\n",
       "      <th>c1_B11<\/th>\n",
       "      <th>c1_B24<\/th>\n",
       "      <th>c1_B26<\/th>\n",
       "      <th>...<\/th>\n",
       "      <th>c1_E52<\/th>\n",
       "      <th>c1_E60<\/th>\n",
       "      <th>c1_F<\/th>\n",
       "      <th>c1_F E46<\/th>\n",
       "      <th>c1_F E57<\/th>\n",
       "      <th>c1_F G63<\/th>\n",
       "      <th>c1_F2<\/th>\n",
       "      <th>c1_F33<\/th>\n",
       "      <th>c1_F4<\/th>\n",
       "      <th>c1_G6<\/th>\n",
       "    <\/tr>\n",
       "  <\/thead>\n",
       "  <tbody>\n",
       "    <tr>\n",
       "      <th>0<\/th>\n",
       "      <td>0<\/td>\n",
       "      <td>0<\/td>\n",
       "      <td>0<\/td>\n",
       "      <td>0<\/td>\n",
       "      <td>0<\/td>\n",
       "      <td>0<\/td>\n",
       "      <td>0<\/td>\n",
       "      <td>0<\/td>\n",
       "      <td>0<\/td>\n",
       "      <td>0<\/td>\n",
       "      <td>...<\/td>\n",
       "      <td>0<\/td>\n",
       "      <td>0<\/td>\n",
       "      <td>0<\/td>\n",
       "      <td>0<\/td>\n",
       "      <td>0<\/td>\n",
       "      <td>0<\/td>\n",
       "      <td>0<\/td>\n",
       "      <td>0<\/td>\n",
       "      <td>0<\/td>\n",
       "      <td>0<\/td>\n",
       "    <\/tr>\n",
       "    <tr>\n",
       "      <th>1<\/th>\n",
       "      <td>0<\/td>\n",
       "      <td>0<\/td>\n",
       "      <td>0<\/td>\n",
       "      <td>0<\/td>\n",
       "      <td>0<\/td>\n",
       "      <td>0<\/td>\n",
       "      <td>0<\/td>\n",
       "      <td>0<\/td>\n",
       "      <td>0<\/td>\n",
       "      <td>0<\/td>\n",
       "      <td>...<\/td>\n",
       "      <td>0<\/td>\n",
       "      <td>0<\/td>\n",
       "      <td>0<\/td>\n",
       "      <td>0<\/td>\n",
       "      <td>0<\/td>\n",
       "      <td>0<\/td>\n",
       "      <td>0<\/td>\n",
       "      <td>0<\/td>\n",
       "      <td>0<\/td>\n",
       "      <td>0<\/td>\n",
       "    <\/tr>\n",
       "    <tr>\n",
       "      <th>2<\/th>\n",
       "      <td>0<\/td>\n",
       "      <td>0<\/td>\n",
       "      <td>0<\/td>\n",
       "      <td>0<\/td>\n",
       "      <td>0<\/td>\n",
       "      <td>0<\/td>\n",
       "      <td>0<\/td>\n",
       "      <td>0<\/td>\n",
       "      <td>0<\/td>\n",
       "      <td>0<\/td>\n",
       "      <td>...<\/td>\n",
       "      <td>0<\/td>\n",
       "      <td>0<\/td>\n",
       "      <td>0<\/td>\n",
       "      <td>0<\/td>\n",
       "      <td>0<\/td>\n",
       "      <td>0<\/td>\n",
       "      <td>0<\/td>\n",
       "      <td>0<\/td>\n",
       "      <td>0<\/td>\n",
       "      <td>0<\/td>\n",
       "    <\/tr>\n",
       "    <tr>\n",
       "      <th>3<\/th>\n",
       "      <td>0<\/td>\n",
       "      <td>0<\/td>\n",
       "      <td>0<\/td>\n",
       "      <td>0<\/td>\n",
       "      <td>0<\/td>\n",
       "      <td>0<\/td>\n",
       "      <td>0<\/td>\n",
       "      <td>0<\/td>\n",
       "      <td>0<\/td>\n",
       "      <td>0<\/td>\n",
       "      <td>...<\/td>\n",
       "      <td>0<\/td>\n",
       "      <td>0<\/td>\n",
       "      <td>0<\/td>\n",
       "      <td>0<\/td>\n",
       "      <td>0<\/td>\n",
       "      <td>0<\/td>\n",
       "      <td>0<\/td>\n",
       "      <td>0<\/td>\n",
       "      <td>0<\/td>\n",
       "      <td>0<\/td>\n",
       "    <\/tr>\n",
       "    <tr>\n",
       "      <th>4<\/th>\n",
       "      <td>0<\/td>\n",
       "      <td>0<\/td>\n",
       "      <td>0<\/td>\n",
       "      <td>0<\/td>\n",
       "      <td>0<\/td>\n",
       "      <td>0<\/td>\n",
       "      <td>0<\/td>\n",
       "      <td>0<\/td>\n",
       "      <td>0<\/td>\n",
       "      <td>0<\/td>\n",
       "      <td>...<\/td>\n",
       "      <td>0<\/td>\n",
       "      <td>0<\/td>\n",
       "      <td>0<\/td>\n",
       "      <td>0<\/td>\n",
       "      <td>0<\/td>\n",
       "      <td>0<\/td>\n",
       "      <td>0<\/td>\n",
       "      <td>0<\/td>\n",
       "      <td>0<\/td>\n",
       "      <td>0<\/td>\n",
       "    <\/tr>\n",
       "  <\/tbody>\n",
       "<\/table>\n",
       "<p>5 rows × 76 columns<\/p>\n",
       "<\/div>"
      ]
     },
     "metadata":{
      
     },
     "output_type":"display_data"
    }
   ],
   "metadata":{
    "datalore":{
     "type":"CODE",
     "hide_input_from_viewers":false,
     "hide_output_from_viewers":false
    }
   }
  },
  {
   "cell_type":"code",
   "source":[
    "ohe = OneHotEncoder()\n",
    "cat_enc_ohe = ohe.fit_transform(cat_enc[['c1']])"
   ],
   "execution_count":62,
   "outputs":[
    
   ],
   "metadata":{
    "datalore":{
     "type":"CODE",
     "hide_input_from_viewers":false,
     "hide_output_from_viewers":false
    }
   }
  },
  {
   "cell_type":"code",
   "source":[
    "cat_enc.shape"
   ],
   "execution_count":63,
   "outputs":[
    {
     "data":{
      "text\/plain":[
       "(418, 1)"
      ]
     },
     "metadata":{
      
     },
     "output_type":"display_data"
    }
   ],
   "metadata":{
    "datalore":{
     "type":"CODE",
     "hide_input_from_viewers":false,
     "hide_output_from_viewers":false
    }
   }
  },
  {
   "cell_type":"code",
   "source":[
    "cat_enc_ohe.shape"
   ],
   "execution_count":64,
   "outputs":[
    {
     "data":{
      "text\/plain":[
       "(418, 76)"
      ]
     },
     "metadata":{
      
     },
     "output_type":"display_data"
    }
   ],
   "metadata":{
    "datalore":{
     "type":"CODE",
     "hide_input_from_viewers":false,
     "hide_output_from_viewers":false
    }
   }
  },
  {
   "cell_type":"code",
   "source":[
    "cat_enc_ohe"
   ],
   "execution_count":65,
   "outputs":[
    {
     "data":{
      "text\/plain":[
       "<418x76 sparse matrix of type '<class 'numpy.float64'>'\n",
       "\twith 418 stored elements in Compressed Sparse Row format>"
      ]
     },
     "metadata":{
      
     },
     "output_type":"display_data"
    }
   ],
   "metadata":{
    "datalore":{
     "type":"CODE",
     "hide_input_from_viewers":false,
     "hide_output_from_viewers":false
    }
   }
  },
  {
   "cell_type":"code",
   "source":[
    "cat_enc_ohe.todense()[0:10]"
   ],
   "execution_count":66,
   "outputs":[
    {
     "data":{
      "text\/html":[
       
      ]
     },
     "metadata":{
      
     },
     "output_type":"display_data"
    }
   ],
   "metadata":{
    "datalore":{
     "type":"CODE",
     "hide_input_from_viewers":false,
     "hide_output_from_viewers":false
    }
   }
  },
  {
   "cell_type":"markdown",
   "source":[
    "**Масштабирование данных**\n",
    "Диапазон возможных значений от 0 до 1(MinMax) или от -3 до 3 (Z-масштабирование). Меняем  только диапазон значений\n",
    "При использовании решающего дерева это не имеет значение (так как работа только с if). В других методах нужно масштабировать данные "
   ],
   "attachments":{
    
   },
   "metadata":{
    "datalore":{
     "type":"MD",
     "hide_input_from_viewers":false,
     "hide_output_from_viewers":false
    }
   }
  },
  {
   "cell_type":"code",
   "source":[
    "from sklearn.preprocessing import MinMaxScaler, StandardScaler, Normalizer"
   ],
   "execution_count":68,
   "outputs":[
    
   ],
   "metadata":{
    "datalore":{
     "type":"CODE",
     "hide_input_from_viewers":false,
     "hide_output_from_viewers":false
    }
   }
  },
  {
   "cell_type":"code",
   "source":[
    "#MinMax масштабирование\n",
    "sc1 = MinMaxScaler()\n",
    "sc1_data = sc1.fit_transform(data[['Fare']])"
   ],
   "execution_count":69,
   "outputs":[
    
   ],
   "metadata":{
    "datalore":{
     "type":"CODE",
     "hide_input_from_viewers":false,
     "hide_output_from_viewers":false
    }
   }
  },
  {
   "cell_type":"code",
   "source":[
    "plt.hist(data['Fare'], 50)\n",
    "plt.show()"
   ],
   "execution_count":70,
   "outputs":[
    {
     "data":{
      "image\/png":"[encoded data removed]"
     },
     "metadata":{
      "image\/png":{
       
      }
     },
     "output_type":"display_data"
    }
   ],
   "metadata":{
    "datalore":{
     "type":"CODE",
     "hide_input_from_viewers":false,
     "hide_output_from_viewers":false
    }
   }
  },
  {
   "cell_type":"code",
   "source":[
    "plt.hist(sc1_data, 50)\n",
    "plt.show()"
   ],
   "execution_count":71,
   "outputs":[
    {
     "data":{
      "image\/png":"[encoded data removed]"
     },
     "metadata":{
      "image\/png":{
       
      }
     },
     "output_type":"display_data"
    }
   ],
   "metadata":{
    "datalore":{
     "type":"CODE",
     "hide_input_from_viewers":false,
     "hide_output_from_viewers":false
    }
   }
  },
  {
   "cell_type":"code",
   "source":[
    "#Масштабирование данных на основе Z-оценки - StandardScaler\n",
    "sc2 = StandardScaler()\n",
    "sc2_data = sc2.fit_transform(data[['Fare']])"
   ],
   "execution_count":72,
   "outputs":[
    
   ],
   "metadata":{
    "datalore":{
     "type":"CODE",
     "hide_input_from_viewers":false,
     "hide_output_from_viewers":false
    }
   }
  },
  {
   "cell_type":"code",
   "source":[
    "plt.hist(sc2_data, 50)\n",
    "plt.show()"
   ],
   "execution_count":73,
   "outputs":[
    {
     "data":{
      "image\/png":"[encoded data removed]"
     },
     "metadata":{
      "image\/png":{
       
      }
     },
     "output_type":"display_data"
    }
   ],
   "metadata":{
    "datalore":{
     "type":"CODE",
     "hide_input_from_viewers":false,
     "hide_output_from_viewers":false
    }
   }
  }
 ],
 "metadata":{
  "datalore":{
   "version":1,
   "computation_mode":"JUPYTER",
   "package_manager":"pip",
   "base_environment":"default",
   "packages":[
    
   ]
  }
 },
 "nbformat":4,
 "nbformat_minor":4
}